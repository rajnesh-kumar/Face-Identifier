{
 "cells": [
  {
   "cell_type": "code",
   "execution_count": 2,
   "metadata": {},
   "outputs": [
    {
     "name": "stderr",
     "output_type": "stream",
     "text": [
      "<ipython-input-2-a9891024faed>:43: DeprecationWarning: ANTIALIAS is deprecated and will be removed in Pillow 10 (2023-07-01). Use Resampling.LANCZOS instead.\n",
      "  final_image = pil_image.resize(size, Image.ANTIALIAS)\n"
     ]
    }
   ],
   "source": [
    "#Walking through all the pictures and them to the list which we'll end up training.\n",
    "\n",
    "import cv2\n",
    "import os\n",
    "from PIL import Image #Pillow library\n",
    "import numpy as np\n",
    "import pickle\n",
    "\n",
    "\n",
    "\n",
    "#BASE_DIR = os.path.dirname(os.path.abspath(__file__))   #__file__ take the path of this code file\n",
    "#image_dir = os.path.join(BASE_DIR, \"OpenCV-Python-Series-master\\src\\images\")\n",
    "image_dir = \"OpenCV-Python-Series-master\\src\\images\"\n",
    "\n",
    "face_cascade = cv2.CascadeClassifier(\"OpenCV-Python-Series-master\\src\\cascades\\data\\haarcascade_frontalface_alt2.xml\")\n",
    "recognizer = cv2.face.LBPHFaceRecognizer_create()\n",
    "\n",
    "\n",
    "current_id = 0\n",
    "label_ids = {}\n",
    "\n",
    "y_labels = []\n",
    "x_train = []\n",
    "\n",
    "\n",
    "for root, dirs, files in os.walk(image_dir):\n",
    "    for file in files:\n",
    "        if file.endswith(\"png\") or file.endswith(\"jpg\"):\n",
    "            path = os.path.join(root, file)\n",
    "            label = os.path.basename(os.path.dirname(path)).replace(\" \", \"-\").lower()\n",
    "            #print(label, path)\n",
    "            \n",
    "            if not label in label_ids:\n",
    "                label_ids[label] = current_id\n",
    "                current_id+=1\n",
    "                id_ = label_ids[label]\n",
    "                #print(label_ids)\n",
    "                \n",
    "            #y_labels.append(label)  #must turn into some number\n",
    "            #x_train.append(path)    #verify this image, must turn into numpy array, GRAY\n",
    "            pil_image = Image.open(path).convert(\"L\") #converting the pictures into grayscale\n",
    "            size = (50, 50)\n",
    "            final_image = pil_image.resize(size, Image.ANTIALIAS)\n",
    "            \n",
    "            \n",
    "            image_array = np.array(final_image, \"uint8\") #converting the gray scaled pictures into numpy array\n",
    "            #print(image_array)\n",
    "            \n",
    "            faces = face_cascade.detectMultiScale(image_array, scaleFactor = 1.5, minNeighbors = 5) #ScaleFacetpr is for accuracy\n",
    "\n",
    "            \n",
    "            for (x, y, w, h) in faces:\n",
    "                roi = image_array[y:y+h, x:x+w]\n",
    "                x_train.append(roi)\n",
    "                y_labels.append(id_)\n",
    "            \n",
    "            \n",
    "#print(y_labels)\n",
    "#print(x_train)\n",
    "\n",
    "\n",
    "\n",
    "\n",
    "with open(\"labels.pickle\", \"wb\") as f:     #wb means writing bytes\n",
    "    pickle.dump(label_ids, f)    #dump label_ids to that file\n",
    "\n",
    "\n",
    "    \n",
    "recognizer.train(x_train, np.array(y_labels))\n",
    "recognizer.save(\"trainner.yml\")\n",
    "            "
   ]
  },
  {
   "cell_type": "code",
   "execution_count": null,
   "metadata": {},
   "outputs": [],
   "source": []
  }
 ],
 "metadata": {
  "kernelspec": {
   "display_name": "Python 3",
   "language": "python",
   "name": "python3"
  },
  "language_info": {
   "codemirror_mode": {
    "name": "ipython",
    "version": 3
   },
   "file_extension": ".py",
   "mimetype": "text/x-python",
   "name": "python",
   "nbconvert_exporter": "python",
   "pygments_lexer": "ipython3",
   "version": "3.8.3"
  }
 },
 "nbformat": 4,
 "nbformat_minor": 4
}
